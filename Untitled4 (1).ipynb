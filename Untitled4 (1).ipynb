{
 "cells": [
  {
   "cell_type": "code",
   "execution_count": 1,
   "id": "137516f1-408a-454c-9100-07ac0f8d8423",
   "metadata": {},
   "outputs": [
    {
     "name": "stdout",
     "output_type": "stream",
     "text": [
      "hello\n"
     ]
    }
   ],
   "source": [
    "a=\"hello\"\n",
    "print(a)"
   ]
  },
  {
   "cell_type": "code",
   "execution_count": 2,
   "id": "9c7dd572-c955-42f8-9d3a-bcd94875ce36",
   "metadata": {},
   "outputs": [
    {
     "name": "stdout",
     "output_type": "stream",
     "text": [
      "e\n",
      "llo\n"
     ]
    }
   ],
   "source": [
    "a=\"hello, world!\"\n",
    "print(a[1])\n",
    "b=\"hello , world!\"\n",
    "print(b[2:5])"
   ]
  },
  {
   "cell_type": "code",
   "execution_count": 3,
   "id": "cf821b26-d6d6-4855-8a7e-3b5d90f8d262",
   "metadata": {},
   "outputs": [
    {
     "name": "stdout",
     "output_type": "stream",
     "text": [
      "13\n",
      "HELLO, WORLD!\n",
      "hello, world!\n",
      "jello, world!\n"
     ]
    }
   ],
   "source": [
    "a=\"hello, world!\"\n",
    "print(len(a))\n",
    "print(a.upper())\n",
    "print(a.lower())\n",
    "print(a.replace(\"h\",\"j\"))"
   ]
  },
  {
   "cell_type": "code",
   "execution_count": 4,
   "id": "bf758b87-0733-43fb-b21d-eff2dd292bec",
   "metadata": {},
   "outputs": [
    {
     "name": "stdout",
     "output_type": "stream",
     "text": [
      "Hello World\n"
     ]
    }
   ],
   "source": [
    "a=\"Hello\"\n",
    "b=\"World\"\n",
    "c= a + \" \" + b\n",
    "print(c)"
   ]
  },
  {
   "cell_type": "code",
   "execution_count": 5,
   "id": "13952a0d-1c03-4183-8a69-32c284a0edb8",
   "metadata": {},
   "outputs": [
    {
     "name": "stdout",
     "output_type": "stream",
     "text": [
      "h\n",
      "e\n",
      "l\n",
      "l\n",
      "o\n",
      " \n",
      "w\n",
      "o\n",
      "r\n",
      "l\n",
      "d\n"
     ]
    }
   ],
   "source": [
    "a=\"hello world\"\n",
    "for ch in a:\n",
    "    print(ch)"
   ]
  },
  {
   "cell_type": "code",
   "execution_count": 6,
   "id": "f682f4a5-10a5-482b-9795-79562c5b58de",
   "metadata": {},
   "outputs": [
    {
     "name": "stdout",
     "output_type": "stream",
     "text": [
      "given string: Carmen\n",
      "concatenated string: Carmen Brown\n"
     ]
    }
   ],
   "source": [
    "a=\"Carmen\"\n",
    "print(\"given string:\", a)\n",
    "new_string = a + \" \" \"Brown\"\n",
    "print(\"concatenated string:\", new_string)\n"
   ]
  },
  {
   "cell_type": "code",
   "execution_count": 7,
   "id": "bf0f6e81-3ae7-45ad-9160-e3e729a45915",
   "metadata": {},
   "outputs": [
    {
     "name": "stdout",
     "output_type": "stream",
     "text": [
      "given string: Hel\n",
      "string: Hello \n"
     ]
    }
   ],
   "source": [
    "#string slicing\n",
    "given_string = \"Hello World!\"\n",
    "substring= given_string[0:3]\n",
    "substring1=given_string[:6]\n",
    "print(\"given string:\", substring)\n",
    "print(\"string:\", substring1)"
   ]
  },
  {
   "cell_type": "code",
   "execution_count": 8,
   "id": "432e2b8a-b088-45ee-8df8-27e39440c057",
   "metadata": {},
   "outputs": [
    {
     "name": "stdout",
     "output_type": "stream",
     "text": [
      "\"world\" is in \"hello world\"\n"
     ]
    }
   ],
   "source": [
    "#using in operator\n",
    "a=\"hello world\"\n",
    "b=\"world\"\n",
    "if b in a:\n",
    "    print(f'\"{b}\" is in \"{a}\"')\n",
    "else:\n",
    "      print(f'\"{b}\"is not in \"{a}\"')"
   ]
  },
  {
   "cell_type": "code",
   "execution_count": 9,
   "id": "82299cf1-e7ac-4f47-8896-d38a35a652ad",
   "metadata": {},
   "outputs": [
    {
     "name": "stdout",
     "output_type": "stream",
     "text": [
      "['1', '2', '3', '4', '5']\n"
     ]
    }
   ],
   "source": [
    "my1='1/2/3/4/5'\n",
    "num=my1.split('/')\n",
    "print(num)\n"
   ]
  },
  {
   "cell_type": "code",
   "execution_count": 10,
   "id": "b4af74d0-3bb7-474b-9f29-2ea406d38cc7",
   "metadata": {},
   "outputs": [
    {
     "name": "stdout",
     "output_type": "stream",
     "text": [
      "['peach col', ' is ', 'nage ', ' chocolate']\n"
     ]
    }
   ],
   "source": [
    "my2=\"peach color is ornage or chocolate\"\n",
    "num=my2.split('or')\n",
    "print(num)"
   ]
  },
  {
   "cell_type": "code",
   "execution_count": 11,
   "id": "55fa183b-5c8a-4f98-90fa-317a50f90b0d",
   "metadata": {},
   "outputs": [
    {
     "name": "stdout",
     "output_type": "stream",
     "text": [
      "['1', '2', '3', '4', '5']\n"
     ]
    }
   ],
   "source": [
    "my1='1%2%3%4%5'\n",
    "num=my1.split('%')\n",
    "print(num)"
   ]
  },
  {
   "cell_type": "code",
   "execution_count": 12,
   "id": "a1d3a75f-3a08-419f-bc0c-5f9e77b575f0",
   "metadata": {},
   "outputs": [
    {
     "name": "stdout",
     "output_type": "stream",
     "text": [
      "['peach color is ornage or chocolate ', ' i hate choloate']\n"
     ]
    }
   ],
   "source": [
    "my2=\"peach color is ornage or chocolate and i hate choloate\"\n",
    "num=my2.split('and')\n",
    "print(num)"
   ]
  },
  {
   "cell_type": "code",
   "execution_count": 13,
   "id": "e47d245e-617d-456b-b1b7-e9859e413e01",
   "metadata": {},
   "outputs": [
    {
     "name": "stdout",
     "output_type": "stream",
     "text": [
      "True\n"
     ]
    }
   ],
   "source": [
    "a=\"507\"\n",
    "x=a.isdigit()\n",
    "print(x)"
   ]
  },
  {
   "cell_type": "code",
   "execution_count": 14,
   "id": "6443200c-0e4f-4030-9d88-0f4b9c5dd06f",
   "metadata": {},
   "outputs": [
    {
     "name": "stdout",
     "output_type": "stream",
     "text": [
      "True\n"
     ]
    }
   ],
   "source": [
    "a=\"Mohan01\"\n",
    "x=a.isalnum()\n",
    "print(x)"
   ]
  },
  {
   "cell_type": "code",
   "execution_count": 15,
   "id": "f3233d82-6b92-45b6-9a6c-c95d6f89a5e6",
   "metadata": {},
   "outputs": [
    {
     "name": "stdout",
     "output_type": "stream",
     "text": [
      "True\n"
     ]
    }
   ],
   "source": [
    "a=\"hello world\"\n",
    "x=a.islower()\n",
    "print(x)"
   ]
  },
  {
   "cell_type": "code",
   "execution_count": 16,
   "id": "06d46fcf-a32d-4451-9550-394348c60127",
   "metadata": {},
   "outputs": [
    {
     "name": "stdout",
     "output_type": "stream",
     "text": [
      "True\n"
     ]
    }
   ],
   "source": [
    "a= \" \"\n",
    "x=a.isspace()\n",
    "print(x)"
   ]
  },
  {
   "cell_type": "code",
   "execution_count": 17,
   "id": "572b5368-4089-44d1-b99d-77a83571e6e0",
   "metadata": {},
   "outputs": [
    {
     "name": "stdout",
     "output_type": "stream",
     "text": [
      "True\n"
     ]
    }
   ],
   "source": [
    "a=\"MOHAN RAO\"\n",
    "x=a.isupper()\n",
    "print(x)"
   ]
  },
  {
   "cell_type": "code",
   "execution_count": 18,
   "id": "73db8c69-41f3-40d2-94c0-4fbc1cba1f17",
   "metadata": {},
   "outputs": [
    {
     "name": "stdout",
     "output_type": "stream",
     "text": [
      "how are you mohan\n",
      "\"Hai Mohan\"\n",
      "\"Hai Mohan \"\n",
      "\"Hai Mohan\"\n"
     ]
    }
   ],
   "source": [
    "#string methods\n",
    "a=\"HOW ARE YOU MOHAN\"\n",
    "x=a.lower()\n",
    "print(x)\n",
    "\n",
    "#lstrip()\n",
    "\n",
    "a=\" Hai Mohan \"\n",
    "x=a.strip()\n",
    "left_strip=a.lstrip()\n",
    "right_strip=x.rstrip()\n",
    "print(f'\"{x}\"')\n",
    "print(f'\"{left_strip}\"')\n",
    "print(f'\"{right_strip}\"')"
   ]
  },
  {
   "cell_type": "code",
   "execution_count": 19,
   "id": "e4aa4a62-2bbd-412f-affc-9b332491e5d3",
   "metadata": {},
   "outputs": [
    {
     "name": "stdout",
     "output_type": "stream",
     "text": [
      "True\n",
      "False\n"
     ]
    }
   ],
   "source": [
    "# starts with substring \n",
    "x=\"hello ramya\"\n",
    "r1=x.endswith(\"ramya\")\n",
    "r2=x.endswith(\"Ramya\")\n",
    "print(f'{r1}')\n",
    "print(f'{r2}')"
   ]
  },
  {
   "cell_type": "code",
   "execution_count": null,
   "id": "f398709d-766f-44c5-a1a2-ce7af9382415",
   "metadata": {},
   "outputs": [],
   "source": []
  }
 ],
 "metadata": {
  "kernelspec": {
   "display_name": "Python 3 (ipykernel)",
   "language": "python",
   "name": "python3"
  },
  "language_info": {
   "codemirror_mode": {
    "name": "ipython",
    "version": 3
   },
   "file_extension": ".py",
   "mimetype": "text/x-python",
   "name": "python",
   "nbconvert_exporter": "python",
   "pygments_lexer": "ipython3",
   "version": "3.12.1"
  }
 },
 "nbformat": 4,
 "nbformat_minor": 5
}
